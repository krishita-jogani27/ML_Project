{
 "cells": [
  {
   "cell_type": "code",
   "execution_count": 5,
   "id": "37060a97-48dd-40cb-8d01-ed1e1d7e6803",
   "metadata": {},
   "outputs": [
    {
     "name": "stdout",
     "output_type": "stream",
     "text": [
      "   movieId              title release_date  video_release_date  \\\n",
      "0        1   Toy Story (1995)  01-Jan-1995                 NaN   \n",
      "1        2   GoldenEye (1995)  01-Jan-1995                 NaN   \n",
      "2        3  Four Rooms (1995)  01-Jan-1995                 NaN   \n",
      "3        4  Get Shorty (1995)  01-Jan-1995                 NaN   \n",
      "4        5     Copycat (1995)  01-Jan-1995                 NaN   \n",
      "\n",
      "                                            IMDb_URL  \\\n",
      "0  http://us.imdb.com/M/title-exact?Toy%20Story%2...   \n",
      "1  http://us.imdb.com/M/title-exact?GoldenEye%20(...   \n",
      "2  http://us.imdb.com/M/title-exact?Four%20Rooms%...   \n",
      "3  http://us.imdb.com/M/title-exact?Get%20Shorty%...   \n",
      "4  http://us.imdb.com/M/title-exact?Copycat%20(1995)   \n",
      "\n",
      "                      genres  \n",
      "0  Animation|Children|Comedy  \n",
      "1  Action|Adventure|Thriller  \n",
      "2                   Thriller  \n",
      "3        Action|Comedy|Drama  \n",
      "4       Crime|Drama|Thriller  \n"
     ]
    }
   ],
   "source": [
    "import pandas as pd\n",
    "\n",
    "# Step 1: Load the Movies Data\n",
    "# The u.item file contains the movie details including genres, which are binary flags in the columns\n",
    "movie_columns = ['movieId', 'title', 'release_date', 'video_release_date', 'IMDb_URL', 'unknown', 'Action', 'Adventure', \n",
    "                 'Animation', 'Children', 'Comedy', 'Crime', 'Documentary', 'Drama', 'Fantasy', 'Film-Noir', 'Horror', \n",
    "                 'Musical', 'Mystery', 'Romance', 'Sci-Fi', 'Thriller', 'War', 'Western']\n",
    "\n",
    "# Load the movie data, only using the first 24 columns, because the genres are stored from column 6 onwards\n",
    "movies = pd.read_csv('ml-100k/u.item', sep='|', names=movie_columns, usecols=range(24), encoding='ISO-8859-1')\n",
    "\n",
    "# Step 2: Load the Ratings Data\n",
    "# The u.data file contains the ratings information\n",
    "ratings = pd.read_csv('ml-100k/u.data', sep='\\t', names=['userId', 'movieId', 'rating', 'timestamp'])\n",
    "\n",
    "# Step 3: Combine the genre columns into a single 'genres' column\n",
    "# We use apply() and lambda to combine all genre columns (from 'unknown' to 'Western')\n",
    "movies['genres'] = movies[movie_columns[6:]].apply(lambda x: '|'.join(movies.columns[6:][x == 1]), axis=1)\n",
    "\n",
    "# Drop the individual genre columns now that we have a 'genres' column\n",
    "movies.drop(movie_columns[5:], axis=1, inplace=True)\n",
    "\n",
    "# Step 4: Merge the ratings with movie titles for further processing if needed\n",
    "# This step is optional, but useful if you want to work with both ratings and movie details together\n",
    "movie_ratings = pd.merge(ratings, movies[['movieId', 'title', 'genres']], on='movieId')\n",
    "\n",
    "# Step 5: Display the first few rows of the processed movies DataFrame\n",
    "print(movies.head())\n",
    "\n",
    "# Optional: Display first few rows of combined movie ratings\n",
    "#print(movie_ratings.head())\n"
   ]
  },
  {
   "cell_type": "code",
   "execution_count": null,
   "id": "88ec4ca4-9714-4a86-8104-7dc42b7dfda2",
   "metadata": {},
   "outputs": [],
   "source": []
  },
  {
   "cell_type": "code",
   "execution_count": null,
   "id": "05227a28-df05-4545-a993-cf5f13125250",
   "metadata": {},
   "outputs": [],
   "source": []
  },
  {
   "cell_type": "code",
   "execution_count": null,
   "id": "ca72c82d-c05e-4817-acfd-9a76fcd97103",
   "metadata": {},
   "outputs": [],
   "source": []
  }
 ],
 "metadata": {
  "kernelspec": {
   "display_name": "Python 3 (ipykernel)",
   "language": "python",
   "name": "python3"
  },
  "language_info": {
   "codemirror_mode": {
    "name": "ipython",
    "version": 3
   },
   "file_extension": ".py",
   "mimetype": "text/x-python",
   "name": "python",
   "nbconvert_exporter": "python",
   "pygments_lexer": "ipython3",
   "version": "3.12.4"
  }
 },
 "nbformat": 4,
 "nbformat_minor": 5
}
